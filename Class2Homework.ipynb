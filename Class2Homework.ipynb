{
  "nbformat": 4,
  "nbformat_minor": 0,
  "metadata": {
    "colab": {
      "name": "Class2Homework.ipynb",
      "provenance": [],
      "include_colab_link": true
    },
    "kernelspec": {
      "name": "python3",
      "display_name": "Python 3"
    }
  },
  "cells": [
    {
      "cell_type": "markdown",
      "metadata": {
        "id": "view-in-github",
        "colab_type": "text"
      },
      "source": [
        "<a href=\"https://colab.research.google.com/github/KateBakate/Python-homework/blob/master/Class2Homework.ipynb\" target=\"_parent\"><img src=\"https://colab.research.google.com/assets/colab-badge.svg\" alt=\"Open In Colab\"/></a>"
      ]
    },
    {
      "cell_type": "code",
      "metadata": {
        "id": "S2KY3ZjSJXwy",
        "colab_type": "code",
        "colab": {
          "base_uri": "https://localhost:8080/",
          "height": 51
        },
        "outputId": "24c447d7-68fc-4a52-8100-7a1f3b93103b"
      },
      "source": [
        "#Easy mode\n",
        "#Задание 1\n",
        "a = float(input(\"по шкале от 0 до 10, напишите, насколько Вы устали\"))\n",
        "if a < 3:\n",
        "  print(\"Кажется, Вы совсем не устали\")\n",
        "elif 3 <= a <= 5:\n",
        "  print(\"Вы средненько устали\")\n",
        "elif 6 <= a <= 7:\n",
        "  print(\"Вы достаточно сильно устали\")\n",
        "elif 8 <= a <= 10:\n",
        "  print(\"Вам срочно нужен отдых\")\n",
        "elif a > 10:\n",
        "  print(\"Вы не можете вводить число больше 10\")"
      ],
      "execution_count": 10,
      "outputs": [
        {
          "output_type": "stream",
          "text": [
            "по шкале от 0 до 10, напишите, насколько Вы устали12\n",
            "Вы не можете вводить число больше 10\n"
          ],
          "name": "stdout"
        }
      ]
    },
    {
      "cell_type": "code",
      "metadata": {
        "id": "tAMLmqFQMtoE",
        "colab_type": "code",
        "colab": {
          "base_uri": "https://localhost:8080/",
          "height": 204
        },
        "outputId": "2aae0344-4c36-45a3-f92c-0193ca4b4871"
      },
      "source": [
        "#Задание 2\n",
        "i = 100\n",
        "while i > 0:\n",
        "  print(i)\n",
        "  i = i - 10\n",
        "print(\"Программа завершена\")\n"
      ],
      "execution_count": 18,
      "outputs": [
        {
          "output_type": "stream",
          "text": [
            "100\n",
            "90\n",
            "80\n",
            "70\n",
            "60\n",
            "50\n",
            "40\n",
            "30\n",
            "20\n",
            "10\n",
            "Программа завершена\n"
          ],
          "name": "stdout"
        }
      ]
    },
    {
      "cell_type": "code",
      "metadata": {
        "id": "eIZvirUAP8vd",
        "colab_type": "code",
        "colab": {
          "base_uri": "https://localhost:8080/",
          "height": 34
        },
        "outputId": "e89bd403-46a7-42bc-a42e-32021f46444e"
      },
      "source": [
        "#Задание 3\n",
        "import random\n",
        "excuses = [\"я устал\",\"я улетел к океану\",\"на улице холодно\", \"на улице жарко\",\n",
        "           \"я в отпуске\",\"у меня день рождения\",\"сегодня выходной\",\"мне надоело\",\n",
        "           \"я работаю из дома\",\"могу\",\"плохо себя чувствую\",\"не хочу\",\"у меня лапки\",\"я в отпуске\",\n",
        "           \"на улице ураган\"]\n",
        "excuses.extend([\"буду пить какао\",\"я удачно вышла замуж\"])\n",
        "myexcuse = random.choice(excuses)\n",
        "print(\"Сегодня я не иду на работу, потому что\",myexcuse)"
      ],
      "execution_count": 35,
      "outputs": [
        {
          "output_type": "stream",
          "text": [
            "Сегодня я не иду на работу, потому что буду пить какао\n"
          ],
          "name": "stdout"
        }
      ]
    },
    {
      "cell_type": "code",
      "metadata": {
        "id": "W6rVVldZTlbn",
        "colab_type": "code",
        "colab": {
          "base_uri": "https://localhost:8080/",
          "height": 136
        },
        "outputId": "b86a8662-63b3-4c85-95bf-dfc13199d04e"
      },
      "source": [
        "#Hard mode\n",
        "#Задание 1\n",
        "numbers = [2,6,7,45,1,89,678,35]\n",
        "for i in numbers:\n",
        "  if i == 45:\n",
        "    continue\n",
        "  elif i%5 == 0:\n",
        "      print(i,\"делится на 5\")\n",
        "  else:\n",
        "      print(\"Это не делится на 5, продолжим поиск\")\n"
      ],
      "execution_count": 51,
      "outputs": [
        {
          "output_type": "stream",
          "text": [
            "Это не делится на 5, продолжим поиск\n",
            "Это не делится на 5, продолжим поиск\n",
            "Это не делится на 5, продолжим поиск\n",
            "Это не делится на 5, продолжим поиск\n",
            "Это не делится на 5, продолжим поиск\n",
            "Это не делится на 5, продолжим поиск\n",
            "35 делится на 5\n"
          ],
          "name": "stdout"
        }
      ]
    },
    {
      "cell_type": "code",
      "metadata": {
        "id": "5SjK6M0uXzXM",
        "colab_type": "code",
        "colab": {
          "base_uri": "https://localhost:8080/",
          "height": 34
        },
        "outputId": "fcda7287-2b86-4cc1-cfab-9b395c7fc994"
      },
      "source": [
        "#Задание 2\n",
        "import random\n",
        "cocktails = [[\"мартини\",\"грейпфрутовый сок\",\"жасмин\",\"тоник\",\"лосось\"],\n",
        "             [\"клубника\",\"какао\",\"мята\",\"марсала\"],\n",
        "             [\"водка\",\"томатный сок\",\"лимонный сок\",\"вустерширский соус\",\"черный перец\",\"сельдерей\",\"лосось\"],\n",
        "             [\"джин\",\"вермут\",\"ликер мараскино\",\"апельсины\",\"коктейльная вишня\",\"лосось\"],\n",
        "             [\"ром\",\"авокадо\",\"сахарный сироп\",\"сливки\",\"лимонный сок\",\"лед\"],\n",
        "             [\"красный вермут\",\"тоник\",\"апельсины\",\"лосось\"],\n",
        "             [\"только чай\"]]\n",
        "mycocktail = random.choice(cocktails)\n",
        "while i in mycocktail != \"лосось\":\n",
        "    print(\"Сегодня в Вашем коктейле будет: \",mycocktail)\n",
        "print()"
      ],
      "execution_count": 49,
      "outputs": [
        {
          "output_type": "stream",
          "text": [
            "Сегодня в Вашем коктейле будет:  ['мартини', 'грейпфрутовый сок', 'жасмин', 'тоник', 'лосось']\n"
          ],
          "name": "stdout"
        }
      ]
    },
    {
      "cell_type": "code",
      "metadata": {
        "id": "ZAOoTod_U7z9",
        "colab_type": "code",
        "colab": {}
      },
      "source": [
        ""
      ],
      "execution_count": 0,
      "outputs": []
    }
  ]
}